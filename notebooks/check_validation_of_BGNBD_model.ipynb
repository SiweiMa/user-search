{
 "cells": [
  {
   "cell_type": "code",
   "execution_count": 1,
   "id": "automatic-doubt",
   "metadata": {
    "ExecuteTime": {
     "end_time": "2021-05-04T07:42:06.575537Z",
     "start_time": "2021-05-04T07:42:05.499522Z"
    }
   },
   "outputs": [],
   "source": [
    "import numpy as np\n",
    "import pandas as pd\n",
    "import seaborn as sns\n",
    "import matplotlib.pyplot as plt"
   ]
  },
  {
   "cell_type": "markdown",
   "id": "periodic-breakdown",
   "metadata": {},
   "source": [
    "## Reference: https://lifetimes.readthedocs.io/en/latest/Quickstart.html"
   ]
  },
  {
   "cell_type": "markdown",
   "id": "latest-groove",
   "metadata": {},
   "source": [
    "# 1. Data"
   ]
  },
  {
   "cell_type": "markdown",
   "id": "secret-netscape",
   "metadata": {},
   "source": [
    "Read the SQL query results which in the format specified by ```lifetimes``` package. If you only have transaction data like me, you can also use ```summary_data_from_transaction_data function``` in ```lifetimes``` package to a frequency, recency and age dataset. It will give the same result as SQL query.\n",
    "\n",
    "Note: please be careful about the defination of recency and frequency, especially recency which \"is equal to the duration between a customer’s first purchase and their latest purchase.\" It is a bit counterintuitive to me. I also calculate recency, called recency_trandition, defined as the time between last purchase and the end of the period under study. I will use recency_trandition for clustering only. "
   ]
  },
  {
   "cell_type": "code",
   "execution_count": 2,
   "id": "reduced-workstation",
   "metadata": {
    "ExecuteTime": {
     "end_time": "2021-05-04T07:42:07.418293Z",
     "start_time": "2021-05-04T07:42:07.212967Z"
    },
    "scrolled": false
   },
   "outputs": [
    {
     "data": {
      "text/html": [
       "<div>\n",
       "<style scoped>\n",
       "    .dataframe tbody tr th:only-of-type {\n",
       "        vertical-align: middle;\n",
       "    }\n",
       "\n",
       "    .dataframe tbody tr th {\n",
       "        vertical-align: top;\n",
       "    }\n",
       "\n",
       "    .dataframe thead th {\n",
       "        text-align: right;\n",
       "    }\n",
       "</style>\n",
       "<table border=\"1\" class=\"dataframe\">\n",
       "  <thead>\n",
       "    <tr style=\"text-align: right;\">\n",
       "      <th></th>\n",
       "      <th>recency</th>\n",
       "      <th>frequency</th>\n",
       "      <th>t</th>\n",
       "      <th>monetary</th>\n",
       "      <th>frequency_holdout</th>\n",
       "      <th>duration_holdout</th>\n",
       "      <th>recency_trandition</th>\n",
       "    </tr>\n",
       "    <tr>\n",
       "      <th>user_id</th>\n",
       "      <th></th>\n",
       "      <th></th>\n",
       "      <th></th>\n",
       "      <th></th>\n",
       "      <th></th>\n",
       "      <th></th>\n",
       "      <th></th>\n",
       "    </tr>\n",
       "  </thead>\n",
       "  <tbody>\n",
       "    <tr>\n",
       "      <th>264649825</th>\n",
       "      <td>0</td>\n",
       "      <td>0</td>\n",
       "      <td>25</td>\n",
       "      <td>0.000000</td>\n",
       "      <td>0</td>\n",
       "      <td>30</td>\n",
       "      <td>25</td>\n",
       "    </tr>\n",
       "    <tr>\n",
       "      <th>303160429</th>\n",
       "      <td>0</td>\n",
       "      <td>0</td>\n",
       "      <td>18</td>\n",
       "      <td>0.000000</td>\n",
       "      <td>0</td>\n",
       "      <td>30</td>\n",
       "      <td>18</td>\n",
       "    </tr>\n",
       "    <tr>\n",
       "      <th>340041246</th>\n",
       "      <td>11</td>\n",
       "      <td>3</td>\n",
       "      <td>28</td>\n",
       "      <td>238.333338</td>\n",
       "      <td>0</td>\n",
       "      <td>30</td>\n",
       "      <td>17</td>\n",
       "    </tr>\n",
       "    <tr>\n",
       "      <th>371877401</th>\n",
       "      <td>0</td>\n",
       "      <td>0</td>\n",
       "      <td>22</td>\n",
       "      <td>0.000000</td>\n",
       "      <td>0</td>\n",
       "      <td>30</td>\n",
       "      <td>22</td>\n",
       "    </tr>\n",
       "    <tr>\n",
       "      <th>384989212</th>\n",
       "      <td>0</td>\n",
       "      <td>0</td>\n",
       "      <td>13</td>\n",
       "      <td>0.000000</td>\n",
       "      <td>1</td>\n",
       "      <td>30</td>\n",
       "      <td>13</td>\n",
       "    </tr>\n",
       "    <tr>\n",
       "      <th>...</th>\n",
       "      <td>...</td>\n",
       "      <td>...</td>\n",
       "      <td>...</td>\n",
       "      <td>...</td>\n",
       "      <td>...</td>\n",
       "      <td>...</td>\n",
       "      <td>...</td>\n",
       "    </tr>\n",
       "    <tr>\n",
       "      <th>566270177</th>\n",
       "      <td>0</td>\n",
       "      <td>0</td>\n",
       "      <td>0</td>\n",
       "      <td>0.000000</td>\n",
       "      <td>0</td>\n",
       "      <td>30</td>\n",
       "      <td>0</td>\n",
       "    </tr>\n",
       "    <tr>\n",
       "      <th>566272569</th>\n",
       "      <td>0</td>\n",
       "      <td>0</td>\n",
       "      <td>0</td>\n",
       "      <td>0.000000</td>\n",
       "      <td>0</td>\n",
       "      <td>30</td>\n",
       "      <td>0</td>\n",
       "    </tr>\n",
       "    <tr>\n",
       "      <th>566274637</th>\n",
       "      <td>0</td>\n",
       "      <td>0</td>\n",
       "      <td>0</td>\n",
       "      <td>0.000000</td>\n",
       "      <td>0</td>\n",
       "      <td>30</td>\n",
       "      <td>0</td>\n",
       "    </tr>\n",
       "    <tr>\n",
       "      <th>566276996</th>\n",
       "      <td>0</td>\n",
       "      <td>0</td>\n",
       "      <td>0</td>\n",
       "      <td>0.000000</td>\n",
       "      <td>1</td>\n",
       "      <td>30</td>\n",
       "      <td>0</td>\n",
       "    </tr>\n",
       "    <tr>\n",
       "      <th>566278294</th>\n",
       "      <td>0</td>\n",
       "      <td>0</td>\n",
       "      <td>0</td>\n",
       "      <td>0.000000</td>\n",
       "      <td>0</td>\n",
       "      <td>30</td>\n",
       "      <td>0</td>\n",
       "    </tr>\n",
       "  </tbody>\n",
       "</table>\n",
       "<p>347118 rows × 7 columns</p>\n",
       "</div>"
      ],
      "text/plain": [
       "           recency  frequency   t    monetary  frequency_holdout  \\\n",
       "user_id                                                            \n",
       "264649825        0          0  25    0.000000                  0   \n",
       "303160429        0          0  18    0.000000                  0   \n",
       "340041246       11          3  28  238.333338                  0   \n",
       "371877401        0          0  22    0.000000                  0   \n",
       "384989212        0          0  13    0.000000                  1   \n",
       "...            ...        ...  ..         ...                ...   \n",
       "566270177        0          0   0    0.000000                  0   \n",
       "566272569        0          0   0    0.000000                  0   \n",
       "566274637        0          0   0    0.000000                  0   \n",
       "566276996        0          0   0    0.000000                  1   \n",
       "566278294        0          0   0    0.000000                  0   \n",
       "\n",
       "           duration_holdout  recency_trandition  \n",
       "user_id                                          \n",
       "264649825                30                  25  \n",
       "303160429                30                  18  \n",
       "340041246                30                  17  \n",
       "371877401                30                  22  \n",
       "384989212                30                  13  \n",
       "...                     ...                 ...  \n",
       "566270177                30                   0  \n",
       "566272569                30                   0  \n",
       "566274637                30                   0  \n",
       "566276996                30                   0  \n",
       "566278294                30                   0  \n",
       "\n",
       "[347118 rows x 7 columns]"
      ]
     },
     "execution_count": 2,
     "metadata": {},
     "output_type": "execute_result"
    }
   ],
   "source": [
    "data = pd.read_csv('rfm_w_holdout_ecomm_oct_nov.csv', index_col='user_id')\n",
    "data['recency_trandition'] = data['t'] - data['recency']\n",
    "\n",
    "data"
   ]
  },
  {
   "cell_type": "markdown",
   "id": "motivated-remains",
   "metadata": {},
   "source": [
    "In order to use ```plot_calibration_purchases_vs_holdout_purchases``` function in ```lifetimes```, we need to rename the columns"
   ]
  },
  {
   "cell_type": "code",
   "execution_count": 3,
   "id": "returning-recall",
   "metadata": {
    "ExecuteTime": {
     "end_time": "2021-05-04T07:42:07.963245Z",
     "start_time": "2021-05-04T07:42:07.914304Z"
    },
    "scrolled": false
   },
   "outputs": [
    {
     "data": {
      "text/html": [
       "<div>\n",
       "<style scoped>\n",
       "    .dataframe tbody tr th:only-of-type {\n",
       "        vertical-align: middle;\n",
       "    }\n",
       "\n",
       "    .dataframe tbody tr th {\n",
       "        vertical-align: top;\n",
       "    }\n",
       "\n",
       "    .dataframe thead th {\n",
       "        text-align: right;\n",
       "    }\n",
       "</style>\n",
       "<table border=\"1\" class=\"dataframe\">\n",
       "  <thead>\n",
       "    <tr style=\"text-align: right;\">\n",
       "      <th></th>\n",
       "      <th>frequency_cal</th>\n",
       "      <th>recency_cal</th>\n",
       "      <th>T_cal</th>\n",
       "      <th>frequency_holdout</th>\n",
       "      <th>duration_holdout</th>\n",
       "    </tr>\n",
       "    <tr>\n",
       "      <th>user_id</th>\n",
       "      <th></th>\n",
       "      <th></th>\n",
       "      <th></th>\n",
       "      <th></th>\n",
       "      <th></th>\n",
       "    </tr>\n",
       "  </thead>\n",
       "  <tbody>\n",
       "    <tr>\n",
       "      <th>264649825</th>\n",
       "      <td>0.0</td>\n",
       "      <td>0.0</td>\n",
       "      <td>25.0</td>\n",
       "      <td>0.0</td>\n",
       "      <td>30.0</td>\n",
       "    </tr>\n",
       "    <tr>\n",
       "      <th>303160429</th>\n",
       "      <td>0.0</td>\n",
       "      <td>0.0</td>\n",
       "      <td>18.0</td>\n",
       "      <td>0.0</td>\n",
       "      <td>30.0</td>\n",
       "    </tr>\n",
       "    <tr>\n",
       "      <th>340041246</th>\n",
       "      <td>3.0</td>\n",
       "      <td>11.0</td>\n",
       "      <td>28.0</td>\n",
       "      <td>0.0</td>\n",
       "      <td>30.0</td>\n",
       "    </tr>\n",
       "    <tr>\n",
       "      <th>371877401</th>\n",
       "      <td>0.0</td>\n",
       "      <td>0.0</td>\n",
       "      <td>22.0</td>\n",
       "      <td>0.0</td>\n",
       "      <td>30.0</td>\n",
       "    </tr>\n",
       "    <tr>\n",
       "      <th>384989212</th>\n",
       "      <td>0.0</td>\n",
       "      <td>0.0</td>\n",
       "      <td>13.0</td>\n",
       "      <td>1.0</td>\n",
       "      <td>30.0</td>\n",
       "    </tr>\n",
       "    <tr>\n",
       "      <th>...</th>\n",
       "      <td>...</td>\n",
       "      <td>...</td>\n",
       "      <td>...</td>\n",
       "      <td>...</td>\n",
       "      <td>...</td>\n",
       "    </tr>\n",
       "    <tr>\n",
       "      <th>566270177</th>\n",
       "      <td>0.0</td>\n",
       "      <td>0.0</td>\n",
       "      <td>0.0</td>\n",
       "      <td>0.0</td>\n",
       "      <td>30.0</td>\n",
       "    </tr>\n",
       "    <tr>\n",
       "      <th>566272569</th>\n",
       "      <td>0.0</td>\n",
       "      <td>0.0</td>\n",
       "      <td>0.0</td>\n",
       "      <td>0.0</td>\n",
       "      <td>30.0</td>\n",
       "    </tr>\n",
       "    <tr>\n",
       "      <th>566274637</th>\n",
       "      <td>0.0</td>\n",
       "      <td>0.0</td>\n",
       "      <td>0.0</td>\n",
       "      <td>0.0</td>\n",
       "      <td>30.0</td>\n",
       "    </tr>\n",
       "    <tr>\n",
       "      <th>566276996</th>\n",
       "      <td>0.0</td>\n",
       "      <td>0.0</td>\n",
       "      <td>0.0</td>\n",
       "      <td>1.0</td>\n",
       "      <td>30.0</td>\n",
       "    </tr>\n",
       "    <tr>\n",
       "      <th>566278294</th>\n",
       "      <td>0.0</td>\n",
       "      <td>0.0</td>\n",
       "      <td>0.0</td>\n",
       "      <td>0.0</td>\n",
       "      <td>30.0</td>\n",
       "    </tr>\n",
       "  </tbody>\n",
       "</table>\n",
       "<p>347118 rows × 5 columns</p>\n",
       "</div>"
      ],
      "text/plain": [
       "           frequency_cal  recency_cal  T_cal  frequency_holdout  \\\n",
       "user_id                                                           \n",
       "264649825            0.0          0.0   25.0                0.0   \n",
       "303160429            0.0          0.0   18.0                0.0   \n",
       "340041246            3.0         11.0   28.0                0.0   \n",
       "371877401            0.0          0.0   22.0                0.0   \n",
       "384989212            0.0          0.0   13.0                1.0   \n",
       "...                  ...          ...    ...                ...   \n",
       "566270177            0.0          0.0    0.0                0.0   \n",
       "566272569            0.0          0.0    0.0                0.0   \n",
       "566274637            0.0          0.0    0.0                0.0   \n",
       "566276996            0.0          0.0    0.0                1.0   \n",
       "566278294            0.0          0.0    0.0                0.0   \n",
       "\n",
       "           duration_holdout  \n",
       "user_id                      \n",
       "264649825              30.0  \n",
       "303160429              30.0  \n",
       "340041246              30.0  \n",
       "371877401              30.0  \n",
       "384989212              30.0  \n",
       "...                     ...  \n",
       "566270177              30.0  \n",
       "566272569              30.0  \n",
       "566274637              30.0  \n",
       "566276996              30.0  \n",
       "566278294              30.0  \n",
       "\n",
       "[347118 rows x 5 columns]"
      ]
     },
     "execution_count": 3,
     "metadata": {},
     "output_type": "execute_result"
    }
   ],
   "source": [
    "data_cal_holdout = pd.DataFrame(data.loc[:, ['frequency', 'recency', 't', 'frequency_holdout', 'duration_holdout']].values,\n",
    "                                columns=['frequency_cal', 'recency_cal', 'T_cal', 'frequency_holdout', 'duration_holdout'],\n",
    "                                index=data.index).astype(float)\n",
    "data_cal_holdout"
   ]
  },
  {
   "cell_type": "markdown",
   "id": "corrected-massachusetts",
   "metadata": {},
   "source": [
    "# 2. Estimating number of transition using BG/NBD model"
   ]
  },
  {
   "cell_type": "markdown",
   "id": "selected-mandate",
   "metadata": {},
   "source": [
    "## 2.1. Fit BG/NBD based on frequency, recency, and age"
   ]
  },
  {
   "cell_type": "code",
   "execution_count": 12,
   "id": "alleged-experiment",
   "metadata": {
    "ExecuteTime": {
     "end_time": "2021-05-05T05:04:06.969260Z",
     "start_time": "2021-05-05T05:04:00.441104Z"
    },
    "scrolled": true
   },
   "outputs": [
    {
     "data": {
      "text/html": [
       "<div>\n",
       "<style scoped>\n",
       "    .dataframe tbody tr th:only-of-type {\n",
       "        vertical-align: middle;\n",
       "    }\n",
       "\n",
       "    .dataframe tbody tr th {\n",
       "        vertical-align: top;\n",
       "    }\n",
       "\n",
       "    .dataframe thead th {\n",
       "        text-align: right;\n",
       "    }\n",
       "</style>\n",
       "<table border=\"1\" class=\"dataframe\">\n",
       "  <thead>\n",
       "    <tr style=\"text-align: right;\">\n",
       "      <th></th>\n",
       "      <th>coef</th>\n",
       "      <th>se(coef)</th>\n",
       "      <th>lower 95% bound</th>\n",
       "      <th>upper 95% bound</th>\n",
       "    </tr>\n",
       "  </thead>\n",
       "  <tbody>\n",
       "    <tr>\n",
       "      <th>r</th>\n",
       "      <td>0.673301</td>\n",
       "      <td>0.013351</td>\n",
       "      <td>0.647134</td>\n",
       "      <td>0.699468</td>\n",
       "    </tr>\n",
       "    <tr>\n",
       "      <th>alpha</th>\n",
       "      <td>7.540591</td>\n",
       "      <td>0.097918</td>\n",
       "      <td>7.348672</td>\n",
       "      <td>7.732509</td>\n",
       "    </tr>\n",
       "    <tr>\n",
       "      <th>a</th>\n",
       "      <td>0.899079</td>\n",
       "      <td>0.013469</td>\n",
       "      <td>0.872679</td>\n",
       "      <td>0.925478</td>\n",
       "    </tr>\n",
       "    <tr>\n",
       "      <th>b</th>\n",
       "      <td>1.019043</td>\n",
       "      <td>0.028508</td>\n",
       "      <td>0.963168</td>\n",
       "      <td>1.074919</td>\n",
       "    </tr>\n",
       "  </tbody>\n",
       "</table>\n",
       "</div>"
      ],
      "text/plain": [
       "           coef  se(coef)  lower 95% bound  upper 95% bound\n",
       "r      0.673301  0.013351         0.647134         0.699468\n",
       "alpha  7.540591  0.097918         7.348672         7.732509\n",
       "a      0.899079  0.013469         0.872679         0.925478\n",
       "b      1.019043  0.028508         0.963168         1.074919"
      ]
     },
     "execution_count": 12,
     "metadata": {},
     "output_type": "execute_result"
    }
   ],
   "source": [
    "from lifetimes import BetaGeoFitter, ModifiedBetaGeoFitter, BetaGeoBetaBinomFitter\n",
    "bgf = ModifiedBetaGeoFitter(penalizer_coef=0.0)\n",
    "\n",
    "bgf.fit(data_cal_holdout['frequency_cal'], data_cal_holdout['recency_cal'], data_cal_holdout['T_cal'])\n",
    "bgf.summary\n"
   ]
  },
  {
   "cell_type": "markdown",
   "id": "bigger-maria",
   "metadata": {},
   "source": [
    "## 2.2. Performance on training set"
   ]
  },
  {
   "cell_type": "code",
   "execution_count": 13,
   "id": "japanese-minister",
   "metadata": {
    "ExecuteTime": {
     "end_time": "2021-05-05T05:04:55.746850Z",
     "start_time": "2021-05-05T05:04:13.820507Z"
    },
    "scrolled": false
   },
   "outputs": [
    {
     "data": {
      "image/png": "[encoded data removed]",
      "text/plain": [
       "<Figure size 432x288 with 1 Axes>"
      ]
     },
     "metadata": {
      "needs_background": "light"
     },
     "output_type": "display_data"
    }
   ],
   "source": [
    "from lifetimes.plotting import plot_period_transactions\n",
    "plot_period_transactions(bgf)\n",
    "plt.show()"
   ]
  },
  {
   "cell_type": "markdown",
   "id": "extraordinary-george",
   "metadata": {},
   "source": [
    "## 2.3. Performance on test set"
   ]
  },
  {
   "cell_type": "markdown",
   "id": "ready-little",
   "metadata": {},
   "source": [
    "BG/NBD gives a reasonable acurate prediction on purchases numbers on the test set. For example, the users, who purchased 6 times in Oct, will purchase around 3 times in Nov. \n",
    "\n",
    "Note that the following plot only shows the average purchases numbers. If you look at the individual's purchases in frequency_holdout or model_predictions, you can see them actually varies a lot. Thus, the prediction on individual level won't be that accurate as indicated by the following plots."
   ]
  },
  {
   "cell_type": "code",
   "execution_count": 14,
   "id": "partial-notification",
   "metadata": {
    "ExecuteTime": {
     "end_time": "2021-05-05T05:05:02.486456Z",
     "start_time": "2021-05-05T05:04:55.748838Z"
    },
    "scrolled": false
   },
   "outputs": [
    {
     "data": {
      "image/png": "[encoded data removed]",
      "text/plain": [
       "<Figure size 432x288 with 1 Axes>"
      ]
     },
     "metadata": {
      "needs_background": "light"
     },
     "output_type": "display_data"
    }
   ],
   "source": [
    "from lifetimes.plotting import plot_calibration_purchases_vs_holdout_purchases\n",
    "\n",
    "bgf.fit(data_cal_holdout['frequency_cal'], data_cal_holdout['recency_cal'], data_cal_holdout['T_cal'])\n",
    "plot_calibration_purchases_vs_holdout_purchases(bgf, data_cal_holdout)\n",
    "plt.show()"
   ]
  },
  {
   "cell_type": "markdown",
   "id": "referenced-representative",
   "metadata": {},
   "source": [
    "## 2.4. Calculate conditional expected number of purchase for next month"
   ]
  },
  {
   "cell_type": "code",
   "execution_count": 142,
   "id": "fewer-instrumentation",
   "metadata": {
    "ExecuteTime": {
     "end_time": "2021-05-05T06:27:32.864479Z",
     "start_time": "2021-05-05T06:26:46.318298Z"
    }
   },
   "outputs": [],
   "source": [
    "t = 30 #predict purchases in 30 periods\n",
    "\n",
    "predict_n_purchase = []\n",
    "for n in range(len(data)):\n",
    "    individual = data.iloc[n]\n",
    "    p = bgf.predict(t, individual['frequency'], individual['recency'], individual['t'])\n",
    "    predict_n_purchase.append(p)"
   ]
  },
  {
   "cell_type": "code",
   "execution_count": 143,
   "id": "analyzed-employment",
   "metadata": {
    "ExecuteTime": {
     "end_time": "2021-05-05T06:28:42.058546Z",
     "start_time": "2021-05-05T06:28:42.007933Z"
    }
   },
   "outputs": [],
   "source": [
    "data['n_purchase'] = predict_n_purchase"
   ]
  },
  {
   "cell_type": "markdown",
   "id": "unusual-procurement",
   "metadata": {},
   "source": [
    "# 3. Estimating CLV using Gamma-Gamma model"
   ]
  },
  {
   "cell_type": "markdown",
   "id": "meaning-plaza",
   "metadata": {},
   "source": [
    "## 3.1. The independence assumption"
   ]
  },
  {
   "cell_type": "markdown",
   "id": "cheap-thumbnail",
   "metadata": {},
   "source": [
    "The Pearson correlation between monetary and frequency is sort of close to 0, thus we can use this model."
   ]
  },
  {
   "cell_type": "code",
   "execution_count": 114,
   "id": "relevant-jumping",
   "metadata": {
    "ExecuteTime": {
     "end_time": "2021-05-05T05:43:47.138326Z",
     "start_time": "2021-05-05T05:43:47.125241Z"
    }
   },
   "outputs": [],
   "source": [
    "returning_customers_summary = data[data['frequency']>0]"
   ]
  },
  {
   "cell_type": "code",
   "execution_count": 116,
   "id": "emotional-olive",
   "metadata": {
    "ExecuteTime": {
     "end_time": "2021-05-05T05:43:49.373862Z",
     "start_time": "2021-05-05T05:43:49.362985Z"
    },
    "scrolled": false
   },
   "outputs": [
    {
     "data": {
      "text/html": [
       "<div>\n",
       "<style scoped>\n",
       "    .dataframe tbody tr th:only-of-type {\n",
       "        vertical-align: middle;\n",
       "    }\n",
       "\n",
       "    .dataframe tbody tr th {\n",
       "        vertical-align: top;\n",
       "    }\n",
       "\n",
       "    .dataframe thead th {\n",
       "        text-align: right;\n",
       "    }\n",
       "</style>\n",
       "<table border=\"1\" class=\"dataframe\">\n",
       "  <thead>\n",
       "    <tr style=\"text-align: right;\">\n",
       "      <th></th>\n",
       "      <th>monetary</th>\n",
       "      <th>frequency</th>\n",
       "    </tr>\n",
       "  </thead>\n",
       "  <tbody>\n",
       "    <tr>\n",
       "      <th>monetary</th>\n",
       "      <td>1.000000</td>\n",
       "      <td>0.133312</td>\n",
       "    </tr>\n",
       "    <tr>\n",
       "      <th>frequency</th>\n",
       "      <td>0.133312</td>\n",
       "      <td>1.000000</td>\n",
       "    </tr>\n",
       "  </tbody>\n",
       "</table>\n",
       "</div>"
      ],
      "text/plain": [
       "           monetary  frequency\n",
       "monetary   1.000000   0.133312\n",
       "frequency  0.133312   1.000000"
      ]
     },
     "execution_count": 116,
     "metadata": {},
     "output_type": "execute_result"
    }
   ],
   "source": [
    "returning_customers_summary[['monetary', 'frequency']].corr()"
   ]
  },
  {
   "cell_type": "markdown",
   "id": "acknowledged-discipline",
   "metadata": {},
   "source": [
    "## 3.2. calculate average profit (revenue in this case) per user"
   ]
  },
  {
   "cell_type": "markdown",
   "id": "julian-heaven",
   "metadata": {},
   "source": [
    "Expected conditional average profit: 482.5641922457281, Average profit: 431.35698359594625"
   ]
  },
  {
   "cell_type": "code",
   "execution_count": 117,
   "id": "involved-phenomenon",
   "metadata": {
    "ExecuteTime": {
     "end_time": "2021-05-05T05:43:54.544936Z",
     "start_time": "2021-05-05T05:43:53.898729Z"
    }
   },
   "outputs": [
    {
     "data": {
      "text/plain": [
       "<lifetimes.GammaGammaFitter: fitted with 90604 subjects, p: 1.20, q: 2.02, v: 418.22>"
      ]
     },
     "execution_count": 117,
     "metadata": {},
     "output_type": "execute_result"
    }
   ],
   "source": [
    "from lifetimes import GammaGammaFitter\n",
    "\n",
    "ggf = GammaGammaFitter(penalizer_coef = 0)\n",
    "ggf.fit(returning_customers_summary['frequency'],\n",
    "        returning_customers_summary['monetary'])"
   ]
  },
  {
   "cell_type": "code",
   "execution_count": 121,
   "id": "alleged-compression",
   "metadata": {
    "ExecuteTime": {
     "end_time": "2021-05-05T05:44:45.220034Z",
     "start_time": "2021-05-05T05:44:45.194872Z"
    }
   },
   "outputs": [
    {
     "name": "stdout",
     "output_type": "stream",
     "text": [
      "Expected conditional average profit: 482.5641922457281, Average profit: 431.35698359594625\n"
     ]
    }
   ],
   "source": [
    "print(\"Expected conditional average profit: %s, Average profit: %s\" % (\n",
    "    ggf.conditional_expected_average_profit(\n",
    "        data['frequency'],\n",
    "        data['monetary']\n",
    "    ).mean(),\n",
    "    data[data['frequency']>0]['monetary'].mean()\n",
    "))"
   ]
  },
  {
   "cell_type": "markdown",
   "id": "criminal-rapid",
   "metadata": {},
   "source": [
    "## 3.3. calculate CLV"
   ]
  },
  {
   "cell_type": "code",
   "execution_count": 147,
   "id": "robust-domain",
   "metadata": {
    "ExecuteTime": {
     "end_time": "2021-05-05T06:31:05.837703Z",
     "start_time": "2021-05-05T06:30:57.857557Z"
    }
   },
   "outputs": [],
   "source": [
    "bgf.fit(data['frequency'], data['recency'], data['t'])\n",
    "\n",
    "pred_clv = ggf.customer_lifetime_value(\n",
    "    bgf, #the model to use to predict the number of future transactions\n",
    "    data['frequency'],\n",
    "    data['recency'],\n",
    "    data['t'],\n",
    "    data['monetary'],\n",
    "    time=6, # months\n",
    "    discount_rate=0.01 # monthly discount rate ~ 12.7% annually\n",
    ")"
   ]
  },
  {
   "cell_type": "code",
   "execution_count": 152,
   "id": "eligible-wholesale",
   "metadata": {
    "ExecuteTime": {
     "end_time": "2021-05-05T07:23:05.676279Z",
     "start_time": "2021-05-05T07:23:05.670801Z"
    }
   },
   "outputs": [
    {
     "data": {
      "text/plain": [
       "user_id\n",
       "264649825     269.542688\n",
       "303160429     348.677281\n",
       "340041246     683.298618\n",
       "371877401     299.200655\n",
       "384989212     434.544760\n",
       "                ...     \n",
       "566270177    1043.057147\n",
       "566272569    1043.057147\n",
       "566274637    1043.057147\n",
       "566276996    1043.057147\n",
       "566278294    1043.057147\n",
       "Name: clv, Length: 347118, dtype: float64"
      ]
     },
     "execution_count": 152,
     "metadata": {},
     "output_type": "execute_result"
    }
   ],
   "source": [
    "pred_clv"
   ]
  }
 ],
 "metadata": {
  "kernelspec": {
   "display_name": "Python 3",
   "language": "python",
   "name": "python3"
  },
  "language_info": {
   "codemirror_mode": {
    "name": "ipython",
    "version": 3
   },
   "file_extension": ".py",
   "mimetype": "text/x-python",
   "name": "python",
   "nbconvert_exporter": "python",
   "pygments_lexer": "ipython3",
   "version": "3.8.5"
  }
 },
 "nbformat": 4,
 "nbformat_minor": 5
}
